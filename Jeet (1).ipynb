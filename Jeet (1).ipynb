{
  "nbformat": 4,
  "nbformat_minor": 0,
  "metadata": {
    "colab": {
      "name": "Jeet.ipynb",
      "provenance": [],
      "collapsed_sections": []
    },
    "kernelspec": {
      "name": "python3",
      "display_name": "Python 3"
    },
    "language_info": {
      "name": "python"
    }
  },
  "cells": [
    {
      "cell_type": "code",
      "metadata": {
        "colab": {
          "base_uri": "https://localhost:8080/"
        },
        "id": "du82S6KGayD5",
        "outputId": "481564a7-1883-470b-b93d-76f712f99258"
      },
      "source": [
        "import requests\n",
        "#import os\n",
        "from datetime import datetime\n",
        "\n",
        "api_key = '47f311943448d9e60826da41b5d02e14'\n",
        "location = input(\"Enter the city name: \")\n",
        "\n",
        "complete_api_link = \"https://api.openweathermap.org/data/2.5/weather?q=\"+location+\"&appid=\"+api_key\n",
        "api_link = requests.get(complete_api_link)\n",
        "api_data = api_link.json()\n",
        "\n",
        "#create variables to store and display data\n",
        "temp_city = ((api_data['main']['temp']) - 273.15)\n",
        "weather_desc = api_data['weather'][0]['description']\n",
        "hmdt = api_data['main']['humidity']\n",
        "wind_spd = api_data['wind']['speed']\n",
        "date_time = datetime.now().strftime(\"%d %b %Y | %I:%M:%S %p\")\n",
        "\n",
        "print (\"-------------------------------------------------------------\")\n",
        "print (\"Weather Stats for - {}  || {}\".format(location.upper(), date_time))\n",
        "print (\"-------------------------------------------------------------\")\n",
        "\n",
        "print (\"Current temperature is: {:.2f} deg C\".format(temp_city))\n",
        "print (\"Current weather desc  :\",weather_desc)\n",
        "print (\"Current Humidity      :\",hmdt, '%')\n",
        "print (\"Current wind speed    :\",wind_spd ,'kmph')\n",
        "\n",
        "print(\"====================================================\")\n",
        "\n",
        "\n",
        "# making a list so that i can print the info to a txt \n",
        "txtlist = [temp_city,weather_desc,hmdt,wind_spd,date_time]\n",
        "#using open() buit-in function to write to a text file\n",
        "with open(\"textfile.txt\" , mode= 'w' ,encoding= 'utf-8') as f :     \n",
        "                                     #encoding = utf-8 for linux and cp1252 for win\n",
        "    f.write(\"------------------------------------------------------------- \\n \")   \n",
        "    f.write(\"Weather Stats for - {}  || {}\".format(location.upper(), date_time))\n",
        "    f.write(\"\\n ------------------------------------------------------------- \\n\")\n",
        "    f.write(\"Current temperature is: {:.2f} deg C\\n\".format(txtlist[0]))\n",
        "    \n",
        "    f.write(\"{},{} \\n\".format(\"Current weather desc  :\" ,txtlist[1]))\n",
        "    f.write(\"{},{},{} \\n\".format(\"Current Humidity      :\",txtlist[2],\"%\"))\n",
        "    f.write(\"{},{},{} \\n\".format(\"Current wind speed    :\",txtlist[3],\"kmph\"))\n",
        "    f.write(\"====================================================\")\n",
        "    \n",
        "\n",
        "    "
      ],
      "execution_count": 3,
      "outputs": [
        {
          "output_type": "stream",
          "text": [
            "Enter the city name: visnagar\n",
            "-------------------------------------------------------------\n",
            "Weather Stats for - VISNAGAR  || 27 Jul 2021 | 05:38:46 AM\n",
            "-------------------------------------------------------------\n",
            "Current temperature is: 28.51 deg C\n",
            "Current weather desc  : overcast clouds\n",
            "Current Humidity      : 62 %\n",
            "Current wind speed    : 7.34 kmph\n",
            "====================================================\n"
          ],
          "name": "stdout"
        }
      ]
    }
  ]
}